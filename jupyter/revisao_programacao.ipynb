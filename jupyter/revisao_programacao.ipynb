{
 "cells": [
  {
   "cell_type": "markdown",
   "metadata": {},
   "source": [
    "# Revisão de Programação em Python\n",
    "## Alunos da Rede Pública Municipal de Santana de Parnaíba inscritos na Fábrica de Programadores!\n",
    "\n",
    "Neste notebook, vamos revisar os conceitos aprendidos:\n",
    "- Variáveis e tipos básicos\n",
    "- Listas\n",
    "- Estruturas condicionais (if, else)\n",
    "- Loops (while, for)\n",
    "- Lógica básica de programação"
   ]
  },
  {
   "cell_type": "markdown",
   "metadata": {},
   "source": [
    "## Exercício 1: Variáveis e Tipos Básicos"
   ]
  },
  {
   "cell_type": "code",
   "execution_count": 15,
   "metadata": {},
   "outputs": [
    {
     "name": "stdout",
     "output_type": "stream",
     "text": [
      "[luan]\n",
      "[17]\n",
      "[ 1.87]\n",
      "Gosta de programar: True\n"
     ]
    }
   ],
   "source": [
    "# 1. Crie variáveis para armazenar:\n",
    "#    - Seu nome (string)\n",
    "#    - Sua idade (int)\n",
    "#    - Sua altura em metros (float)\n",
    "#    - Se você gosta de programar (boolean)\n",
    "# Depois, imprima cada uma dessas variáveis\n",
    "\n",
    "# Seu código aqui\n",
    "nome = input(\"Qual o seu nome? \")\n",
    "idade = int(input(\"Qual a sua idade? \"))\n",
    "altura = float(input(\"Qual sua altura em metros? \"))\n",
    "gosta_de_programar = input(\"Você gosta de programar? (sim/não) \").strip().lower() == \"sim\"\n",
    "\n",
    "print(\"[%s]\" % nome)\n",
    "print(\"[%d]\" % idade)\n",
    "print(\"[%5.2f]\" % altura)\n",
    "print(\"Gosta de programar:\", gosta_de_programar )"
   ]
  },
  {
   "cell_type": "markdown",
   "metadata": {},
   "source": [
    "## Exercício 2: Operações com Listas"
   ]
  },
  {
   "cell_type": "code",
   "execution_count": 19,
   "metadata": {},
   "outputs": [
    {
     "name": "stdout",
     "output_type": "stream",
     "text": [
      "['Maçã', 'Pera', 'Uva', 'Laranja', 'Banana']\n",
      "['Maçã', 'Uva', 'Laranja', 'Banana']\n",
      "['Maçã', 'Uva', 'Laranja', 'Banana', 'Pitaia']\n"
     ]
    }
   ],
   "source": [
    "# 2. Crie uma lista chamada 'frutas' com 5 frutas diferentes\n",
    "#    - Adicione uma nova fruta no final da lista\n",
    "#    - Remova a segunda fruta da lista\n",
    "#    - Imprima a lista resultante\n",
    "#    - Imprima apenas a terceira fruta da lista\n",
    "\n",
    "# Seu código aqui\n",
    "frutas=[\"Maçã\", \"Pera\", \"Uva\", \"Laranja\", \"Banana\"]\n",
    "print(frutas)\n",
    "frutas.pop(1)\n",
    "print(frutas)\n",
    "frutas.append(\"Pitaia\")\n",
    "print(frutas)\n"
   ]
  },
  {
   "cell_type": "markdown",
   "metadata": {},
   "source": [
    "## Exercício 3: Estruturas Condicionais (if, else)"
   ]
  },
  {
   "cell_type": "code",
   "execution_count": 11,
   "metadata": {},
   "outputs": [
    {
     "name": "stdout",
     "output_type": "stream",
     "text": [
      "Número negativo!\n"
     ]
    }
   ],
   "source": [
    "# 3. Crie um programa que verifica se um número é positivo, negativo ou zero\n",
    "#    - Peça para o usuário digitar um número\n",
    "#    - Use if, elif e else para verificar o número\n",
    "#    - Imprima o resultado\n",
    "\n",
    "# Seu código aqui\n",
    "numero=int(input(\"Digite um valor;\"))\n",
    "\n",
    "if numero>0:\n",
    "    print(\"Número positivo!\")\n",
    "    \n",
    "\n",
    "elif numero<0:\n",
    "    print(\"Número negativo!\")\n",
    "\n",
    "else:\n",
    "    print(\"Esse número é 0\")"
   ]
  },
  {
   "cell_type": "markdown",
   "metadata": {},
   "source": [
    "## Exercício 4: Loop While"
   ]
  },
  {
   "cell_type": "code",
   "execution_count": 9,
   "metadata": {},
   "outputs": [
    {
     "name": "stdout",
     "output_type": "stream",
     "text": [
      "5\n",
      "4\n",
      "3\n",
      "2\n",
      "1\n",
      "Fogo!\n"
     ]
    }
   ],
   "source": [
    "# 4. Crie um contador regressivo de 5 até 1 usando while\n",
    "#    - A cada iteração, imprima o número atual\n",
    "#    - Quando chegar a 1, imprima \"Fogo!\"\n",
    "\n",
    "# Seu código aqui\n",
    "contagem=5\n",
    "while contagem>0:\n",
    "    print(contagem)\n",
    "    contagem=contagem-1\n",
    "    if contagem==0:\n",
    "         print(\"Fogo!\")"
   ]
  },
  {
   "cell_type": "markdown",
   "metadata": {},
   "source": [
    "## Exercício 5: Loop For"
   ]
  },
  {
   "cell_type": "code",
   "execution_count": 30,
   "metadata": {},
   "outputs": [
    {
     "name": "stdout",
     "output_type": "stream",
     "text": [
      "Digite as 5 notas!\n",
      "A média é: 10.0\n"
     ]
    }
   ],
   "source": [
    "# 5. Crie um programa que calcula a média de 5 notas usando for\n",
    "#    - Peça para o usuário digitar 5 notas\n",
    "#    - Use um loop for para somar as notas\n",
    "#    - Calcule e imprima a média\n",
    "\n",
    "# Seu código aqui\n",
    "print(\"Digite as 5 notas!\")\n",
    "\n",
    "soma = 0  \n",
    "for i in range(5):\n",
    "    nota = float(input(\"Digite as notas: \"))\n",
    "    soma += nota\n",
    "    calculo=soma/5\n",
    "\n",
    "print(\"A média é:\", calculo)"
   ]
  },
  {
   "cell_type": "markdown",
   "metadata": {},
   "source": [
    "## Exercício 6: Listas e Loops"
   ]
  },
  {
   "cell_type": "code",
   "execution_count": null,
   "metadata": {},
   "outputs": [],
   "source": [
    "# 6. Crie uma lista de números de 1 a 10\n",
    "#    - Use um loop for para imprimir apenas os números pares\n",
    "#    - Depois, crie uma nova lista com os números ímpares\n",
    "#    - Imprima a lista de ímpares\n",
    "\n",
    "# Seu código aqui\n",
    "lista=[1,2,3,4,5,6,7,8,9,10]\n",
    "print(\"\\n Números pares:\")\n",
    "for par in lista:\n",
    "    if par %2==0:\n",
    "        \n",
    "        print(par)\n",
    "print(\"\\n Números impares:\")\n",
    "for impar in lista:\n",
    "    if impar %2==1:\n",
    "        \n",
    "        print(impar)\n"
   ]
  },
  {
   "cell_type": "markdown",
   "metadata": {},
   "source": [
    "## Exercício 7: Jogo de Adivinhação"
   ]
  },
  {
   "cell_type": "code",
   "execution_count": 23,
   "metadata": {},
   "outputs": [
    {
     "name": "stdout",
     "output_type": "stream",
     "text": [
      "Você tem 3 tentativas!\n",
      "tente novamente! Você tem: 2 Tentativas\n",
      "Número aleatorio: 6\n",
      "Seu palpite: 1\n",
      "tente novamente! Você tem: 1 Tentativas\n",
      "Número aleatorio: 6\n",
      "Seu palpite: 2\n",
      "tente novamente! Você tem: 0 Tentativas\n",
      "Número aleatorio: 6\n",
      "Seu palpite: 3\n",
      "Suas tentativas acabaram!\n"
     ]
    }
   ],
   "source": [
    "# 7. Crie um jogo de adivinhação onde:\n",
    "#    - O computador escolhe um número aleatório entre 1 e 10\n",
    "#    - O jogador tem 3 tentativas para adivinhar o número\n",
    "#    - A cada tentativa, diga se o palpite é maior ou menor que o número secreto\n",
    "#    - Se acertar, imprima \"Parabéns!\" e encerre o jogo\n",
    "#    - Se errar todas as tentativas, imprima o número correto\n",
    "\n",
    "# Seu código aqui\n",
    "import random\n",
    "print(\"Você tem 3 tentativas!\")\n",
    "numeroAleatirio=random.randint(1,10)\n",
    "tentativas=3\n",
    "\n",
    "while tentativas>0:\n",
    "    palpite=int(input(\"De um palpite de que número esta por vim de 1 a 10:\"))\n",
    "\n",
    "    if palpite==numeroAleatirio:\n",
    "        print(\"parabéns você acertou!\")\n",
    "        print(\"Número aleatorio:\",numeroAleatirio)\n",
    "        print( \"Seu palpite:\", palpite)\n",
    "        break\n",
    "    else:\n",
    "        tentativas-=1\n",
    "        print(\"tente novamente! Você tem:\",tentativas,\"Tentativas\")\n",
    "        print(\"Número aleatorio:\",numeroAleatirio)\n",
    "        print( \"Seu palpite:\", palpite)\n",
    "\n",
    "    \n",
    "print(\"Suas tentativas acabaram!\")\n",
    "\n",
    "\n",
    "        \n",
    "\n",
    "    \n",
    "\n",
    "\n"
   ]
  },
  {
   "cell_type": "markdown",
   "metadata": {},
   "source": [
    "## Exercício 8: Desafio Final"
   ]
  },
  {
   "cell_type": "code",
   "execution_count": null,
   "metadata": {},
   "outputs": [],
   "source": [
    "# 8. Crie um programa que:\n",
    "#    - Pede para o usuário digitar o seu próprio peso em Kgs.\n",
    "#    - Depois, pede ao usuário que digite sua altura em metros.\n",
    "#    - Em terceiro, pede ao usuário que digite seu nome e idade.\n",
    "#    - Adiciona os dados digitados ao final de uma lista.\n",
    "#    - Calcule o índice de massa corpórea (IMC) do indivíduo de acordo com a fórmula do IMC pesquisada.    \n",
    "#    - Após calcular, registre: Classificação do IMC de acordo com a OMS:\n",
    "#    - < 16         Magreza grau III\n",
    "#    - 16 a 16,9    Magreza grau II\n",
    "#    - 17 a 18,4    Magreza grau III\n",
    "#    - 18,5 a 24,9  Eutrofia\n",
    "#    - 25 a 29,9    Pré-obesidade\n",
    "#    - 30 a 34,9    Obesidade moderada (grau I)\n",
    "#    - 35 a 39,9    Obesidade severa (grau II)\n",
    "#    - >= 40        Obesidade muito severa (grau III)\n",
    "#    - Finalmente, em ordem alfabética, exiba todos os itens da lista ao lado de seus dados, seu IMC e sua respectiva classificação.\n",
    "\n",
    "# Seu código aqui\n",
    "pesoKG=float(input(\"Digite o seu peso em KG!\"))\n",
    "alturaM=float(input(\"Digite a altura em M!\"))\n",
    "nome=input(\"Digite o seu nome:\")\n",
    "idade=int(input(\"Qual a sua idade?\"))\n",
    "imc=(pesoKG)/alturaM**2\n",
    "while True:\n",
    "    if imc <=16:\n",
    "        print(\"\\n DADOS PESSOAIS:\")\n",
    "        print(\"Peso:\",pesoKG)\n",
    "        print(\"Altura:\",alturaM)\n",
    "        print(\"Nome:\",nome)\n",
    "        print(\"Idade:\",idade)\n",
    "        \n",
    "        print(nome,\" o seu IMC é:\",imc,\"Classificação: Magreza grau III\")\n",
    "        break\n",
    "    elif imc <=16.9:\n",
    "        print(\"\\n DADOS PESSOAIS:\")\n",
    "        print(\"Peso:\",pesoKG)\n",
    "        print(\"Altura:\",alturaM)\n",
    "        print(\"Nome:\",nome)\n",
    "        print(\"Idade:\",idade)\n",
    "        print(nome,\" o seu IMC é:\",imc,\"Classificação: Magreza grau II\")\n",
    "        break\n",
    "    elif imc <=18.4:\n",
    "        print(\"\\n DADOS PESSOAIS:\")\n",
    "        print(\"Peso:\",pesoKG)\n",
    "        print(\"Altura:\",alturaM)\n",
    "        print(\"Nome:\",nome)\n",
    "        print(\"Idade:\",idade)\n",
    "        print(nome,\" o seu IMC é:\",imc,\"Classificação: Magreza grau I\")\n",
    "        break\n",
    "    elif imc <=24.9:\n",
    "        print(\"\\n DADOS PESSOAIS:\")\n",
    "        print(\"Peso:\",pesoKG)\n",
    "        print(\"Altura:\",alturaM)\n",
    "        print(\"Nome:\",nome)\n",
    "        print(\"Idade:\",idade)\n",
    "        print(nome,\" o seu IMC é:\",imc,\"Classificação: Eutrofia\")\n",
    "        break\n",
    "    elif imc <=29.9:\n",
    "        print(\"\\n DADOS PESSOAIS:\")\n",
    "        print(\"Peso:\",pesoKG)\n",
    "        print(\"Altura:\",alturaM)\n",
    "        print(\"Nome:\",nome)\n",
    "        print(\"Idade:\",idade)\n",
    "        print(nome,\" o seu IMC é:\",imc,\"Classificação: Pré obesidade\")\n",
    "        break\n",
    "    elif imc <=34.9:\n",
    "        print(\"\\n DADOS PESSOAIS:\")\n",
    "        print(\"Peso:\",pesoKG)\n",
    "        print(\"Altura:\",alturaM)\n",
    "        print(\"Nome:\",nome)\n",
    "        print(\"Idade:\",idade)\n",
    "        print(nome,\" o seu IMC é:\",imc,\"Classificação: Obesidade modereda (grau I)\")\n",
    "        break\n",
    "    elif imc <=39.9:\n",
    "        print(\"\\n DADOS PESSOAIS:\")\n",
    "        print(\"Peso:\",pesoKG)\n",
    "        print(\"Altura:\",alturaM)\n",
    "        print(\"Nome:\",nome)\n",
    "        print(\"Idade:\",idade)\n",
    "        print(nome,\" o seu IMC é:\",imc,\"Classificação: Obesidade severa (grau II)\")\n",
    "        break\n",
    "    elif imc >=40:\n",
    "        print(\"\\n DADOS PESSOAIS:\")\n",
    "        print(\"Peso:\",pesoKG)\n",
    "        print(\"Altura:\",alturaM)\n",
    "        print(\"Nome:\",nome)\n",
    "        print(\"Idade:\",idade)\n",
    "        print(nome,\" o seu IMC é:\",imc,\"Obesidade muito severa (grau III)\")\n",
    "        break\n",
    "    else:\n",
    "        print(\"FALSE\")\n",
    "        continue\n"
   ]
  },
  {
   "cell_type": "markdown",
   "metadata": {},
   "source": [
    "## Parabéns por completar os exercícios! 🥳\n",
    "### Continue praticando e explorando os conceitos de programação."
   ]
  }
 ],
 "metadata": {
  "kernelspec": {
   "display_name": ".venv",
   "language": "python",
   "name": "python3"
  },
  "language_info": {
   "codemirror_mode": {
    "name": "ipython",
    "version": 3
   },
   "file_extension": ".py",
   "mimetype": "text/x-python",
   "name": "python",
   "nbconvert_exporter": "python",
   "pygments_lexer": "ipython3",
   "version": "3.13.2"
  }
 },
 "nbformat": 4,
 "nbformat_minor": 4
}
